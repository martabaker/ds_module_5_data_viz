{
 "cells": [
  {
   "cell_type": "markdown",
   "id": "74004652-a6bb-4600-b418-44782bc79e90",
   "metadata": {},
   "source": [
    "# Pymaceuticals Inc.\n",
    "---\n",
    "\n",
    "### Analysis\n",
    "\n",
    "- Add your analysis here.\n",
    " "
   ]
  },
  {
   "cell_type": "code",
   "execution_count": null,
   "id": "57dbef18-eea5-4a4e-9f7e-c48be7e1d8bf",
   "metadata": {},
   "outputs": [],
   "source": [
    "# Data Science Libraries\n",
    "import pandas as pd\n",
    "import numpy as np\n",
    "\n",
    "# Visualization\n",
    "import matplotlib.pyplot as plt\n",
    "import seaborn as sns\n",
    "\n",
    "# Regression/Modelling Libraries\n",
    "from scipy.stats import linregress\n",
    "from sklearn.linear_model import LinearRegression\n",
    "from sklearn.metrics import r2_score"
   ]
  },
  {
   "cell_type": "code",
   "execution_count": null,
   "id": "c5365fbc-0a99-4d61-8b32-b79b44fdd573",
   "metadata": {},
   "outputs": [],
   "source": [
    "# Add Data Files\n",
    "mouse_metadata_path = \"data/Mouse_metadata.csv\"\n",
    "study_results_path = \"data/Study_results.csv\"\n",
    "\n",
    "# Read the mouse data and the study results\n",
    "mouse_metadata = pd.read_csv(mouse_metadata_path)\n",
    "study_results = pd.read_csv(study_results_path)\n",
    "\n",
    "# Combine the data into a single DataFrame\n",
    "\n",
    "\n",
    "# Display the data table for preview\n"
   ]
  },
  {
   "cell_type": "code",
   "execution_count": null,
   "id": "8ffb4944-3b2f-4b4a-8cd9-6f9ebad6b515",
   "metadata": {},
   "outputs": [],
   "source": [
    "# Change the column names to be easily readable and allow for dot notation\n",
    "comb_df.columns = [x.lower().replace(\" \", \"_\") for x in comb_df.columns]"
   ]
  },
  {
   "cell_type": "code",
   "execution_count": null,
   "id": "6244913f-7cee-44fe-96ad-383ef5ea7356",
   "metadata": {},
   "outputs": [],
   "source": [
    "# Check number of mice"
   ]
  },
  {
   "cell_type": "code",
   "execution_count": null,
   "id": "9f92a7ad-fec1-4b82-97c8-29fb349fe0d8",
   "metadata": {},
   "outputs": [],
   "source": [
    "# Find the duplicate mouse by ID number and Timepoint"
   ]
  },
  {
   "cell_type": "code",
   "execution_count": null,
   "id": "59b45086-da6f-4bf4-aca7-455dd202b87f",
   "metadata": {},
   "outputs": [],
   "source": [
    "# Create a clean DataFrame by removing the duplicate mouse (by its ID)"
   ]
  },
  {
   "cell_type": "markdown",
   "id": "eaa60ade-c6c5-44ce-9422-6744a47dc937",
   "metadata": {},
   "source": [
    "# Summary Statistics\n",
    "- Only need to use 1 of the methods (per the Rubric, just need to get the summary statistics via groupby and that a new dataframe is created)"
   ]
  },
  {
   "cell_type": "code",
   "execution_count": null,
   "id": "e17d591a-188f-4e64-b74d-5d572cc7e6f8",
   "metadata": {},
   "outputs": [],
   "source": [
    "# Generate a summary statistics table of mean, median, variance, standard deviation, and SEM of the tumor volume for each regimen\n",
    "\n",
    "# Groupby Drug Regimen and find Mean, Median, Variance, Std. Dev. and Standard Error for the Tumor Volume"
   ]
  },
  {
   "cell_type": "code",
   "execution_count": null,
   "id": "f569ba06-fc45-4391-8d83-23dcb2d9e1fe",
   "metadata": {},
   "outputs": [],
   "source": [
    "# A more advanced method to generate a summary statistics table of mean, median, variance, standard deviation,\n",
    "# and SEM of the tumor volume for each regimen (only one method is required in the solution)\n",
    "\n",
    "# Using the aggregation method, produce the same summary statistics in a single line"
   ]
  },
  {
   "cell_type": "markdown",
   "id": "faf1e3fc-0e1d-4cb5-aee6-33a30ea8cf2c",
   "metadata": {},
   "source": [
    "# Bar and Pie Charts"
   ]
  },
  {
   "cell_type": "code",
   "execution_count": null,
   "id": "89b45b7c-4e1e-49d3-a4a1-27c9840e9242",
   "metadata": {},
   "outputs": [],
   "source": [
    "# Pandas bar chart; x-axis = Drug Regimen; y-axis = Mouse Id/Timepoints"
   ]
  },
  {
   "cell_type": "code",
   "execution_count": null,
   "id": "1f58f184-88d0-40cd-9b02-7f4b80cde440",
   "metadata": {},
   "outputs": [],
   "source": [
    "# Pyplot bar chart"
   ]
  },
  {
   "cell_type": "code",
   "execution_count": null,
   "id": "d739cbd3-cc24-4fb8-8b96-2b16fa9e4418",
   "metadata": {},
   "outputs": [],
   "source": [
    "# Pandas pie chart; male vs. female mice"
   ]
  },
  {
   "cell_type": "code",
   "execution_count": null,
   "id": "90988b29-1bc8-4131-9c17-a6e66011586b",
   "metadata": {},
   "outputs": [],
   "source": [
    "# Pyplot bar chart"
   ]
  },
  {
   "cell_type": "markdown",
   "id": "8533783a-a997-4854-9385-937a95ee9ae2",
   "metadata": {},
   "source": [
    "# Quartiles, Outliers and Boxplots"
   ]
  },
  {
   "cell_type": "code",
   "execution_count": null,
   "id": "d72bcf8e-615f-4753-bf74-d4f52374e5ee",
   "metadata": {},
   "outputs": [],
   "source": [
    "# Calculate the final tumor volume of each mouse across four of the treatment regimens:  \n",
    "# Capomulin, Ramicane, Infubinol, and Ceftamin\n",
    "\n",
    "# Start by getting the last (greatest) timepoint for each mouse\n",
    "\n",
    "\n",
    "# Merge this group df with the original DataFrame to get the tumor volume at the last timepoint"
   ]
  },
  {
   "cell_type": "code",
   "execution_count": null,
   "id": "8ba22024-136a-4d24-9667-dd667a3cc752",
   "metadata": {},
   "outputs": [],
   "source": [
    "# Put treatments into a list for for loop (and later for plot labels)\n",
    "\n",
    "\n",
    "# Create empty list to fill with tumor vol data (for plotting)\n",
    "\n",
    "\n",
    "# Calculate the IQR and quantitatively determine if there are any potential outliers. \n",
    "\n",
    "    \n",
    "    # Locate the rows which contain mice on each drug and get the tumor volumes\n",
    "\n",
    "    \n",
    "    # add subset \n",
    "\n",
    "    \n",
    "    # Determine outliers using upper and lower bounds"
   ]
  },
  {
   "cell_type": "code",
   "execution_count": null,
   "id": "561f2894-c30c-4d04-8b8d-1fd78c5b10ee",
   "metadata": {},
   "outputs": [],
   "source": [
    "# Box plot that shows the distribution of the tumor volume for each treatment group (can be any method--just use seaborn)"
   ]
  },
  {
   "cell_type": "code",
   "execution_count": null,
   "id": "4be48cf0-d1f9-4044-b269-e62882a8a530",
   "metadata": {},
   "outputs": [],
   "source": []
  },
  {
   "cell_type": "code",
   "execution_count": null,
   "id": "ee43f4aa-f893-41a0-8296-db4415a364de",
   "metadata": {},
   "outputs": [],
   "source": []
  },
  {
   "cell_type": "code",
   "execution_count": null,
   "id": "6f0a2ceb-3ccf-4de1-8c43-e6835f5040bc",
   "metadata": {},
   "outputs": [],
   "source": []
  },
  {
   "cell_type": "code",
   "execution_count": null,
   "id": "ebd5438c-e4a0-4294-9818-6e6624166f2f",
   "metadata": {},
   "outputs": [],
   "source": []
  },
  {
   "cell_type": "code",
   "execution_count": null,
   "id": "f3afb69e-f7bd-46bf-81c3-258befaf2702",
   "metadata": {},
   "outputs": [],
   "source": []
  }
 ],
 "metadata": {
  "kernelspec": {
   "display_name": "Python 3 (ipykernel)",
   "language": "python",
   "name": "python3"
  },
  "language_info": {
   "codemirror_mode": {
    "name": "ipython",
    "version": 3
   },
   "file_extension": ".py",
   "mimetype": "text/x-python",
   "name": "python",
   "nbconvert_exporter": "python",
   "pygments_lexer": "ipython3",
   "version": "3.10.13"
  }
 },
 "nbformat": 4,
 "nbformat_minor": 5
}
